{
 "cells": [
  {
   "cell_type": "markdown",
   "metadata": {},
   "source": [
    "# Exploring and Analyzing the IMDB Top 250 Movies"
   ]
  },
  {
   "cell_type": "code",
   "execution_count": 3,
   "metadata": {},
   "outputs": [],
   "source": [
    "# Importing required libraries\n",
    "import pandas as pd\n",
    "import numpy as np\n",
    "import matplotlib.pyplot as plt\n",
    "import seaborn as sns\n",
    "%matplotlib inline\n",
    "import plotly.express as px"
   ]
  },
  {
   "cell_type": "code",
   "execution_count": 4,
   "metadata": {},
   "outputs": [],
   "source": [
    "movies_data_path = r'C:\\Users\\Lenovo\\Documents\\Zahid\\Python Projects\\Movie Recommender/IMDB Top 250 Movies.csv'\n",
    "\n",
    "movies_data = pd.read_csv(movies_data_path)"
   ]
  },
  {
   "cell_type": "code",
   "execution_count": 5,
   "metadata": {},
   "outputs": [
    {
     "data": {
      "text/plain": [
       "Index(['rank', 'name', 'year', 'rating', 'genre', 'certificate', 'run_time',\n",
       "       'tagline', 'budget', 'box_office', 'casts', 'directors', 'writers'],\n",
       "      dtype='object')"
      ]
     },
     "execution_count": 5,
     "metadata": {},
     "output_type": "execute_result"
    }
   ],
   "source": [
    "# Columns in Internet Movie Database\n",
    "movies_data.columns"
   ]
  },
  {
   "cell_type": "code",
   "execution_count": 6,
   "metadata": {},
   "outputs": [
    {
     "data": {
      "text/html": [
       "<div>\n",
       "<style scoped>\n",
       "    .dataframe tbody tr th:only-of-type {\n",
       "        vertical-align: middle;\n",
       "    }\n",
       "\n",
       "    .dataframe tbody tr th {\n",
       "        vertical-align: top;\n",
       "    }\n",
       "\n",
       "    .dataframe thead th {\n",
       "        text-align: right;\n",
       "    }\n",
       "</style>\n",
       "<table border=\"1\" class=\"dataframe\">\n",
       "  <thead>\n",
       "    <tr style=\"text-align: right;\">\n",
       "      <th></th>\n",
       "      <th>rank</th>\n",
       "      <th>name</th>\n",
       "      <th>year</th>\n",
       "      <th>rating</th>\n",
       "      <th>genre</th>\n",
       "      <th>certificate</th>\n",
       "      <th>run_time</th>\n",
       "      <th>tagline</th>\n",
       "      <th>budget</th>\n",
       "      <th>box_office</th>\n",
       "      <th>casts</th>\n",
       "      <th>directors</th>\n",
       "      <th>writers</th>\n",
       "    </tr>\n",
       "  </thead>\n",
       "  <tbody>\n",
       "    <tr>\n",
       "      <th>214</th>\n",
       "      <td>215</td>\n",
       "      <td>The Terminator</td>\n",
       "      <td>1984</td>\n",
       "      <td>8.1</td>\n",
       "      <td>Action,Sci-Fi</td>\n",
       "      <td>R</td>\n",
       "      <td>1h 47m</td>\n",
       "      <td>La sua missione e una sola: distruggere, uccid...</td>\n",
       "      <td>6400000</td>\n",
       "      <td>78371200</td>\n",
       "      <td>Arnold Schwarzenegger,Linda Hamilton,Michael B...</td>\n",
       "      <td>James Cameron</td>\n",
       "      <td>James Cameron,Gale Anne Hurd,William Wisher</td>\n",
       "    </tr>\n",
       "    <tr>\n",
       "      <th>243</th>\n",
       "      <td>244</td>\n",
       "      <td>Life of Brian</td>\n",
       "      <td>1979</td>\n",
       "      <td>8.0</td>\n",
       "      <td>Comedy</td>\n",
       "      <td>R</td>\n",
       "      <td>1h 34m</td>\n",
       "      <td>A motion picture destined to offend nearly two...</td>\n",
       "      <td>4000000</td>\n",
       "      <td>20745728</td>\n",
       "      <td>Graham Chapman,John Cleese,Michael Palin,Terry...</td>\n",
       "      <td>Terry Jones</td>\n",
       "      <td>Graham Chapman,John Cleese,Terry Gilliam</td>\n",
       "    </tr>\n",
       "    <tr>\n",
       "      <th>189</th>\n",
       "      <td>190</td>\n",
       "      <td>The Deer Hunter</td>\n",
       "      <td>1978</td>\n",
       "      <td>8.1</td>\n",
       "      <td>Drama,War</td>\n",
       "      <td>R</td>\n",
       "      <td>3h 3m</td>\n",
       "      <td>One of the most important and powerful films o...</td>\n",
       "      <td>15000000</td>\n",
       "      <td>49074379</td>\n",
       "      <td>Robert De Niro,Christopher Walken,John Cazale,...</td>\n",
       "      <td>Michael Cimino</td>\n",
       "      <td>Michael Cimino,Deric Washburn,Louis Garfinkle</td>\n",
       "    </tr>\n",
       "  </tbody>\n",
       "</table>\n",
       "</div>"
      ],
      "text/plain": [
       "     rank             name  year  rating          genre certificate run_time  \\\n",
       "214   215   The Terminator  1984     8.1  Action,Sci-Fi           R   1h 47m   \n",
       "243   244    Life of Brian  1979     8.0         Comedy           R   1h 34m   \n",
       "189   190  The Deer Hunter  1978     8.1      Drama,War           R    3h 3m   \n",
       "\n",
       "                                               tagline    budget box_office  \\\n",
       "214  La sua missione e una sola: distruggere, uccid...   6400000   78371200   \n",
       "243  A motion picture destined to offend nearly two...   4000000   20745728   \n",
       "189  One of the most important and powerful films o...  15000000   49074379   \n",
       "\n",
       "                                                 casts       directors  \\\n",
       "214  Arnold Schwarzenegger,Linda Hamilton,Michael B...   James Cameron   \n",
       "243  Graham Chapman,John Cleese,Michael Palin,Terry...     Terry Jones   \n",
       "189  Robert De Niro,Christopher Walken,John Cazale,...  Michael Cimino   \n",
       "\n",
       "                                           writers  \n",
       "214    James Cameron,Gale Anne Hurd,William Wisher  \n",
       "243       Graham Chapman,John Cleese,Terry Gilliam  \n",
       "189  Michael Cimino,Deric Washburn,Louis Garfinkle  "
      ]
     },
     "execution_count": 6,
     "metadata": {},
     "output_type": "execute_result"
    }
   ],
   "source": [
    "# lets view the top 3 records from the dataset\n",
    "movies_data.sample(3)"
   ]
  },
  {
   "cell_type": "code",
   "execution_count": 7,
   "metadata": {},
   "outputs": [
    {
     "name": "stdout",
     "output_type": "stream",
     "text": [
      "<class 'pandas.core.frame.DataFrame'>\n",
      "RangeIndex: 250 entries, 0 to 249\n",
      "Data columns (total 13 columns):\n",
      " #   Column       Non-Null Count  Dtype  \n",
      "---  ------       --------------  -----  \n",
      " 0   rank         250 non-null    int64  \n",
      " 1   name         250 non-null    object \n",
      " 2   year         250 non-null    int64  \n",
      " 3   rating       250 non-null    float64\n",
      " 4   genre        250 non-null    object \n",
      " 5   certificate  250 non-null    object \n",
      " 6   run_time     250 non-null    object \n",
      " 7   tagline      250 non-null    object \n",
      " 8   budget       250 non-null    object \n",
      " 9   box_office   250 non-null    object \n",
      " 10  casts        250 non-null    object \n",
      " 11  directors    250 non-null    object \n",
      " 12  writers      250 non-null    object \n",
      "dtypes: float64(1), int64(2), object(10)\n",
      "memory usage: 25.5+ KB\n"
     ]
    }
   ],
   "source": [
    "# let's check the brief summary of dataset using \".info()\"\n",
    "movies_data.info()"
   ]
  },
  {
   "cell_type": "code",
   "execution_count": 8,
   "metadata": {},
   "outputs": [
    {
     "data": {
      "text/plain": [
       "rank           0\n",
       "name           0\n",
       "year           0\n",
       "rating         0\n",
       "genre          0\n",
       "certificate    0\n",
       "run_time       0\n",
       "tagline        0\n",
       "budget         0\n",
       "box_office     0\n",
       "casts          0\n",
       "directors      0\n",
       "writers        0\n",
       "dtype: int64"
      ]
     },
     "execution_count": 8,
     "metadata": {},
     "output_type": "execute_result"
    }
   ],
   "source": [
    "# let's find is there any null value present in the movies data\n",
    "movies_data.isnull().sum() "
   ]
  },
  {
   "cell_type": "code",
   "execution_count": 9,
   "metadata": {},
   "outputs": [
    {
     "data": {
      "text/plain": [
       "(250, 13)"
      ]
     },
     "execution_count": 9,
     "metadata": {},
     "output_type": "execute_result"
    }
   ],
   "source": [
    "# shape of the data\n",
    "movies_data.shape"
   ]
  },
  {
   "cell_type": "markdown",
   "metadata": {},
   "source": [
    "#### Upon inspecting the dataset, it is evident that there are no null values present in any of the columns.\n",
    "\n"
   ]
  },
  {
   "cell_type": "code",
   "execution_count": 10,
   "metadata": {},
   "outputs": [
    {
     "name": "stdout",
     "output_type": "stream",
     "text": [
      "4 columns in the dataset contain 'Not Available'.\n"
     ]
    }
   ],
   "source": [
    "# Check which columns contain \"Not Available\" and count them\n",
    "num_missing_cols = (movies_data == \"Not Available\").any().sum()\n",
    "\n",
    "print(f\"{num_missing_cols} columns in the dataset contain 'Not Available'.\")"
   ]
  },
  {
   "cell_type": "code",
   "execution_count": 11,
   "metadata": {},
   "outputs": [
    {
     "name": "stdout",
     "output_type": "stream",
     "text": [
      "Column 'certificate' has 1 'Not Available' values.\n",
      "Column 'run_time' has 1 'Not Available' values.\n",
      "Column 'budget' has 39 'Not Available' values.\n",
      "Column 'box_office' has 30 'Not Available' values.\n",
      "\n",
      "There are 4 columns with 'Not Available' values: ['certificate', 'run_time', 'budget', 'box_office']\n"
     ]
    }
   ],
   "source": [
    "# Loop over each column and count the number of occurrences of \"Not Available\"\n",
    "not_avail_cols = []\n",
    "for col in movies_data.columns:\n",
    "    if 'Not Available' in movies_data[col].value_counts().index:\n",
    "        not_avail_count = movies_data[col].value_counts()['Not Available']\n",
    "        print(f\"Column '{col}' has {not_avail_count} 'Not Available' values.\")\n",
    "        not_avail_cols.append(col)\n",
    "\n",
    "print(f\"\\nThere are {len(not_avail_cols)} columns with 'Not Available' values: {not_avail_cols}\")"
   ]
  },
  {
   "cell_type": "markdown",
   "metadata": {},
   "source": [
    "## EDA (Exploratory Data Analysis)"
   ]
  },
  {
   "cell_type": "markdown",
   "metadata": {},
   "source": [
    "### Determine the distribution of movie rating "
   ]
  },
  {
   "cell_type": "code",
   "execution_count": 12,
   "metadata": {},
   "outputs": [
    {
     "data": {
      "text/html": [
       "<div>\n",
       "<style scoped>\n",
       "    .dataframe tbody tr th:only-of-type {\n",
       "        vertical-align: middle;\n",
       "    }\n",
       "\n",
       "    .dataframe tbody tr th {\n",
       "        vertical-align: top;\n",
       "    }\n",
       "\n",
       "    .dataframe thead th {\n",
       "        text-align: right;\n",
       "    }\n",
       "</style>\n",
       "<table border=\"1\" class=\"dataframe\">\n",
       "  <thead>\n",
       "    <tr style=\"text-align: right;\">\n",
       "      <th></th>\n",
       "      <th>Rating</th>\n",
       "      <th>Count</th>\n",
       "    </tr>\n",
       "  </thead>\n",
       "  <tbody>\n",
       "    <tr>\n",
       "      <th>8.0</th>\n",
       "      <td>8.0</td>\n",
       "      <td>5</td>\n",
       "    </tr>\n",
       "    <tr>\n",
       "      <th>8.1</th>\n",
       "      <td>8.1</td>\n",
       "      <td>68</td>\n",
       "    </tr>\n",
       "    <tr>\n",
       "      <th>8.2</th>\n",
       "      <td>8.2</td>\n",
       "      <td>55</td>\n",
       "    </tr>\n",
       "    <tr>\n",
       "      <th>8.3</th>\n",
       "      <td>8.3</td>\n",
       "      <td>38</td>\n",
       "    </tr>\n",
       "    <tr>\n",
       "      <th>8.4</th>\n",
       "      <td>8.4</td>\n",
       "      <td>30</td>\n",
       "    </tr>\n",
       "    <tr>\n",
       "      <th>8.5</th>\n",
       "      <td>8.5</td>\n",
       "      <td>22</td>\n",
       "    </tr>\n",
       "    <tr>\n",
       "      <th>8.6</th>\n",
       "      <td>8.6</td>\n",
       "      <td>13</td>\n",
       "    </tr>\n",
       "    <tr>\n",
       "      <th>8.7</th>\n",
       "      <td>8.7</td>\n",
       "      <td>4</td>\n",
       "    </tr>\n",
       "    <tr>\n",
       "      <th>8.8</th>\n",
       "      <td>8.8</td>\n",
       "      <td>7</td>\n",
       "    </tr>\n",
       "    <tr>\n",
       "      <th>8.9</th>\n",
       "      <td>8.9</td>\n",
       "      <td>1</td>\n",
       "    </tr>\n",
       "    <tr>\n",
       "      <th>9.0</th>\n",
       "      <td>9.0</td>\n",
       "      <td>5</td>\n",
       "    </tr>\n",
       "    <tr>\n",
       "      <th>9.2</th>\n",
       "      <td>9.2</td>\n",
       "      <td>1</td>\n",
       "    </tr>\n",
       "    <tr>\n",
       "      <th>9.3</th>\n",
       "      <td>9.3</td>\n",
       "      <td>1</td>\n",
       "    </tr>\n",
       "  </tbody>\n",
       "</table>\n",
       "</div>"
      ],
      "text/plain": [
       "     Rating  Count\n",
       "8.0     8.0      5\n",
       "8.1     8.1     68\n",
       "8.2     8.2     55\n",
       "8.3     8.3     38\n",
       "8.4     8.4     30\n",
       "8.5     8.5     22\n",
       "8.6     8.6     13\n",
       "8.7     8.7      4\n",
       "8.8     8.8      7\n",
       "8.9     8.9      1\n",
       "9.0     9.0      5\n",
       "9.2     9.2      1\n",
       "9.3     9.3      1"
      ]
     },
     "metadata": {},
     "output_type": "display_data"
    }
   ],
   "source": [
    "rating_counts = movies_data['rating'].value_counts().sort_index()\n",
    "\n",
    "rating_distribution = pd.DataFrame({\n",
    "    'Rating':rating_counts.index,\n",
    "    'Count':rating_counts\n",
    "})\n",
    "\n",
    "display(rating_distribution)"
   ]
  },
  {
   "cell_type": "code",
   "execution_count": 13,
   "metadata": {},
   "outputs": [
    {
     "data": {
      "image/png": "[encoded data removed]",
      "text/plain": [
       "<Figure size 432x288 with 1 Axes>"
      ]
     },
     "metadata": {
      "needs_background": "light"
     },
     "output_type": "display_data"
    }
   ],
   "source": [
    "plt.hist(movies_data['rating'],bins=20)\n",
    "plt.xlabel('Ratings')\n",
    "plt.ylabel('Frequency')\n",
    "plt.title('Distribution of Movie Rating')\n",
    "plt.show()"
   ]
  },
  {
   "cell_type": "markdown",
   "metadata": {},
   "source": [
    "#### we can conclude that the majority of movies in the dataset have a rating between 8.0 and 8.4, with fewer movies having higher ratings above 8.4."
   ]
  },
  {
   "cell_type": "markdown",
   "metadata": {},
   "source": [
    "## Which movie genres are the most common in the dataset?\n"
   ]
  },
  {
   "cell_type": "code",
   "execution_count": 14,
   "metadata": {},
   "outputs": [
    {
     "data": {
      "text/plain": [
       "Drama                         19\n",
       "Crime,Drama                   14\n",
       "Animation,Adventure,Comedy    10\n",
       "Biography,Drama,History        9\n",
       "Crime,Drama,Mystery            9\n",
       "Drama,War                      8\n",
       "Drama,Romance                  6\n",
       "Animation,Action,Adventure     5\n",
       "Action,Crime,Drama             5\n",
       "Action,Adventure,Drama         5\n",
       "Name: genre, dtype: int64"
      ]
     },
     "metadata": {},
     "output_type": "display_data"
    }
   ],
   "source": [
    "genre_counts = movies_data['genre'].value_counts()\n",
    "\n",
    "# The Top 10 most common genres \n",
    "display(genre_counts.head(10))"
   ]
  },
  {
   "cell_type": "markdown",
   "metadata": {},
   "source": [
    "#### we can conclude that drama is the most frequently occurring genre, followed by crime drama and animation, adventure and comedy.\n",
    "\n"
   ]
  },
  {
   "cell_type": "markdown",
   "metadata": {},
   "source": [
    "## What is the average budget for a movie in the dataset?\n"
   ]
  },
  {
   "cell_type": "code",
   "execution_count": 15,
   "metadata": {},
   "outputs": [
    {
     "name": "stdout",
     "output_type": "stream",
     "text": [
      "The average budget for a movie in the dataset is: 52912272.62\n"
     ]
    }
   ],
   "source": [
    "# Convert the \"budget\" column to a numeric data type, and replace \"Not Available\" values with NaN\n",
    "movies_data['budget'] = pd.to_numeric(movies_data['budget'], errors='coerce')\n",
    "\n",
    "# Compute the mean budget excluding NaN Values\n",
    "average_budget = movies_data['budget'].mean(skipna=True)\n",
    "\n",
    "print(f\"The average budget for a movie in the dataset is: {average_budget:.2f}\")"
   ]
  },
  {
   "cell_type": "markdown",
   "metadata": {},
   "source": [
    "#### The average budget for a movie comes to 52.9 million dollars."
   ]
  },
  {
   "cell_type": "markdown",
   "metadata": {},
   "source": [
    "## What is the average box office revenue for a movie in the dataset?\n",
    " "
   ]
  },
  {
   "cell_type": "code",
   "execution_count": 16,
   "metadata": {},
   "outputs": [
    {
     "name": "stdout",
     "output_type": "stream",
     "text": [
      "The average box office revenue for a movie in the dataset is 238207554.30\n"
     ]
    }
   ],
   "source": [
    "# Replace \"Not Available\" value with NaN\n",
    "movies_data['box_office'] = pd.to_numeric(movies_data['box_office'],errors='coerce')\n",
    "\n",
    "# Convert the Box-Office column to float datatype\n",
    "movies_data['box_office'] = movies_data['box_office'].astype(float)\n",
    "\n",
    "# Calculate the average box office revenue for movies in the dataset\n",
    "avg_box_office = movies_data['box_office'].mean()\n",
    "\n",
    "print(f\"The average box office revenue for a movie in the dataset is {avg_box_office:.2f}\")"
   ]
  },
  {
   "cell_type": "markdown",
   "metadata": {},
   "source": [
    "#### The average revenue generated for a movie is 238.2 million dollars. "
   ]
  },
  {
   "cell_type": "markdown",
   "metadata": {},
   "source": [
    "## How many movies were released each year in the dataset?\n"
   ]
  },
  {
   "cell_type": "code",
   "execution_count": 17,
   "metadata": {},
   "outputs": [
    {
     "name": "stdout",
     "output_type": "stream",
     "text": [
      "The number of movies released in each year:\n",
      " 1995    8\n",
      "2004    7\n",
      "2009    6\n",
      "2019    6\n",
      "1999    6\n",
      "       ..\n",
      "1972    1\n",
      "1977    1\n",
      "1978    1\n",
      "1987    1\n",
      "1921    1\n",
      "Name: year, Length: 86, dtype: int64\n"
     ]
    }
   ],
   "source": [
    "# Count the number of movies released in each year\n",
    "year_counts = movies_data['year'].value_counts()\n",
    "\n",
    "print(\"The number of movies released in each year:\\n\", year_counts)"
   ]
  },
  {
   "cell_type": "markdown",
   "metadata": {},
   "source": [
    "## What is the average runtime of a movie in the dataset?\n",
    " "
   ]
  },
  {
   "cell_type": "code",
   "execution_count": 18,
   "metadata": {},
   "outputs": [
    {
     "name": "stdout",
     "output_type": "stream",
     "text": [
      "The average runtime of a movie in the dataset is 2h 6m.\n"
     ]
    }
   ],
   "source": [
    "# Define a function to convert runtime string to minutes\n",
    "def runtime_to_minutes(runtime_str):\n",
    "    if runtime_str == \"Not Available\":\n",
    "        return np.nan\n",
    "    elif \"h \" in runtime_str:\n",
    "        hours, minutes = runtime_str.split(\"h \")\n",
    "        return int(hours) * 60 + int(minutes[:-1])\n",
    "    else:\n",
    "        return int(runtime_str[:-1])\n",
    "\n",
    "# Apply the function to the run_time column\n",
    "movies_data['runtime_minutes'] = movies_data['run_time'].apply(runtime_to_minutes)\n",
    "\n",
    "# Calculate the average runtime in miunutes\n",
    "avg_runtime = movies_data['runtime_minutes'].mean()\n",
    "\n",
    "# Convert the average runtime back to hours and minutes format\n",
    "hours = int(avg_runtime/60)\n",
    "minutes = int(avg_runtime % 60)\n",
    "print(f\"The average runtime of a movie in the dataset is {hours}h {minutes}m.\")"
   ]
  },
  {
   "cell_type": "markdown",
   "metadata": {},
   "source": [
    "## Which directors have the most movies in the dataset?\n"
   ]
  },
  {
   "cell_type": "code",
   "execution_count": 19,
   "metadata": {},
   "outputs": [
    {
     "data": {
      "text/plain": [
       "Christopher Nolan    7\n",
       "Akira Kurosawa       7\n",
       "Stanley Kubrick      7\n",
       "Martin Scorsese      7\n",
       "Steven Spielberg     7\n",
       "Alfred Hitchcock     6\n",
       "Quentin Tarantino    5\n",
       "Charles Chaplin      5\n",
       "Billy Wilder         5\n",
       "Sergio Leone         4\n",
       "Name: directors, dtype: int64"
      ]
     },
     "metadata": {},
     "output_type": "display_data"
    }
   ],
   "source": [
    "director_count = movies_data['directors'].value_counts()\n",
    "display(director_count.head(10))"
   ]
  },
  {
   "cell_type": "markdown",
   "metadata": {},
   "source": [
    "## What is the most common certification rating for movies in the dataset?\n"
   ]
  },
  {
   "cell_type": "code",
   "execution_count": 20,
   "metadata": {},
   "outputs": [
    {
     "data": {
      "text/plain": [
       "'R'"
      ]
     },
     "metadata": {},
     "output_type": "display_data"
    }
   ],
   "source": [
    "most_common_certification = movies_data['certificate'].value_counts().index[0]\n",
    "display(most_common_certification)"
   ]
  },
  {
   "cell_type": "markdown",
   "metadata": {},
   "source": [
    "## Which actors appear in the most movies in the dataset?\n",
    " "
   ]
  },
  {
   "cell_type": "code",
   "execution_count": 21,
   "metadata": {},
   "outputs": [
    {
     "name": "stdout",
     "output_type": "stream",
     "text": [
      "Top actors who appear in the most movies:\n",
      "Elijah Wood,Viggo Mortensen,Ian McKellen,Orlando Bloom,Noel Appleby,Ali Astin,Sean Astin,David Aston,John Bach,Sean Bean,Cate Blanchett,Billy Boyd,Sadwyn Brophy,Alistair Browning,Marton Csokas,Richard Edge,Jason Fitch,Bernard Hill: 1\n",
      "Daniel Radcliffe,Emma Watson,Rupert Grint,Michael Gambon,Ralph Fiennes,Alan Rickman,Evanna Lynch,Domhnall Gleeson,Clémence Poésy,Warwick Davis,John Hurt,Helena Bonham Carter,Graham Duff,Anthony Allgood,Rusty Goffe,Jon Key,Kelly Macdonald,Jason Isaacs: 1\n",
      "Leonardo DiCaprio,Jonah Hill,Margot Robbie,Matthew McConaughey,Kyle Chandler,Rob Reiner,Jon Bernthal,Jon Favreau,Jean Dujardin,Joanna Lumley,Cristin Milioti,Christine Ebersole,Shea Whigham,Katarina Cas,P.J. Byrne,Kenneth Choi,Brian Sacca,Henry Zebrowski: 1\n",
      "Charlie Sheen,Tom Berenger,Willem Dafoe,Keith David,Forest Whitaker,Francesco Quinn,Kevin Dillon,John C. McGinley,Reggie Johnson,Mark Moses,Corey Glover,Johnny Depp,Chris Pedersen,Bob Orwig,Corkey Ford,David Neidorf,Richard Edson,Tony Todd: 1\n",
      "William Holden,Alec Guinness,Jack Hawkins,Sessue Hayakawa,James Donald,Geoffrey Horne,André Morell,Peter Williams,John Boxer,Percy Herbert,Harold Goodwin,Ann Sears,Heihachirô Ôkawa,Keiichirô Katsumoto,M.R.B. Chakrabandhu,Vilaiwan Seeboonreaung,Ngamta Suphaphongs,Javanart Punynchoti: 1\n",
      "Marlon Brando,Al Pacino,James Caan,Diane Keaton,Richard S. Castellano,Robert Duvall,Sterling Hayden,John Marley,Richard Conte,Al Lettieri,Abe Vigoda,Talia Shire,Gianni Russo,John Cazale,Rudy Bond,Al Martino,Morgana King,Lenny Montana: 1\n",
      "Dean-Charles Chapman,George MacKay,Daniel Mays,Colin Firth,Pip Carter,Andy Apollo,Paul Tinto,Josef Davies,Billy Postlethwaite,Gabriel Akuwudike,Andrew Scott,Spike Leighton,Robert Maaser,Gerran Howell,Adam Hugill,Mark Strong,Richard McCabe,Benjamin Adams: 1\n",
      "Robin Williams,Matt Damon,Ben Affleck,Stellan Skarsgård,John Mighton,Rachel Majorowski,Colleen McCauley,Casey Affleck,Cole Hauser,Matt Mercier,Ralph St. George,Rob Lynds,Dan Washington,Alison Folland,Derrick Bridgeman,Vik Sahay,Shannon Egleson,Rob Lyons: 1\n",
      "Jason Flemyng,Dexter Fletcher,Nick Moran,Jason Statham,Steven Mackintosh,Nicholas Rowe,Nick Marcq,Charles Forbes,Vinnie Jones,Lenny McLean,Peter McNicholl,P.H. Moriarty,Frank Harper,Steve Sweeney,Huggy Leaver,Ronnie Fox,Tony McMahon,Stephen Marcus: 1\n",
      "Maria Falconetti,Eugene Silvain,André Berley,Maurice Schutz,Antonin Artaud,Michel Simon,Jean d'Yd,Louis Ravet,Armand Lurville,Jacques Arnna,Alexandre Mihalesco,Léon Larive,Jean Aymé,Camille Bardou,Gilbert Dacheux,Gilbert Dalleu,Paul Delauzac,Dimitri Dimitriev: 1\n"
     ]
    }
   ],
   "source": [
    "# Split the actor column on common separator and explode to create separate row for each actor\n",
    "actor_list = movies_data['casts'].str.split(\", \").explode()\n",
    "\n",
    "# Count the number of times each actor appers in the dataset\n",
    "actor_count = actor_list.value_counts()\n",
    "\n",
    "# Top 10 actors who appers in the most movies\n",
    "top_actors = actor_count.head(10)\n",
    "\n",
    "# Print the top actors\n",
    "print('Top actors who appear in the most movies:')\n",
    "for actor, count in top_actors.items():\n",
    "    print(f\"{actor}: {count}\")\n"
   ]
  },
  {
   "cell_type": "markdown",
   "metadata": {},
   "source": [
    "## Which writers have the most movie credits in the dataset?\n"
   ]
  },
  {
   "cell_type": "code",
   "execution_count": 22,
   "metadata": {},
   "outputs": [
    {
     "name": "stdout",
     "output_type": "stream",
     "text": [
      "Top writers with the most movie creadits:\n",
      "Charles Chaplin                              4\n",
      "Ingmar Bergman                               3\n",
      "J.R.R. Tolkien,Fran Walsh,Philippa Boyens    3\n",
      "Guy Ritchie                                  2\n",
      "Ethan Coen,Joel Coen                         2\n",
      "Quentin Tarantino                            2\n",
      "Nicholas Pileggi,Martin Scorsese             2\n",
      "Quentin Tarantino,Roger Avary                2\n",
      "Hayao Miyazaki                               2\n",
      "Stephen King,Frank Darabont                  2\n",
      "Name: writers, dtype: int64\n"
     ]
    }
   ],
   "source": [
    "# Split the writers column on common seperator and explode to create seperate row for each writer \n",
    "writer_list = movies_data['writers'].str.split(\", \").explode()\n",
    "\n",
    "# Count the number of times each writer apperas in the dataset\n",
    "writer_count = writer_list.value_counts()\n",
    "\n",
    "# Top 10 writers who have the most movie credits\n",
    "top_writers = writer_count.head(10)\n",
    "\n",
    "# Print the top writet\n",
    "print('Top writers with the most movie creadits:')\n",
    "print(top_writers)"
   ]
  },
  {
   "cell_type": "markdown",
   "metadata": {},
   "source": [
    "#### The writer with the most movie credits in the dataset is Charles Chaplin with four movies. The next most prolific writers are tied with three movie credits each: J.R.R. Tolkien, Fran Walsh, Philippa Boyens, and Ingmar Bergman."
   ]
  },
  {
   "cell_type": "markdown",
   "metadata": {},
   "source": [
    "## Distribution of movies by rating\n"
   ]
  },
  {
   "cell_type": "code",
   "execution_count": 23,
   "metadata": {},
   "outputs": [
    {
     "data": {
      "image/png": "[encoded data removed]",
      "text/plain": [
       "<Figure size 432x288 with 1 Axes>"
      ]
     },
     "metadata": {},
     "output_type": "display_data"
    }
   ],
   "source": [
    "# Count the number of movies in each rating category\n",
    "rating_counts = movies_data['certificate'].value_counts()\n",
    "\n",
    "# Create a pie chart of the rating distribution\n",
    "plt.pie(rating_counts, labels=rating_counts.index, autopct='%1.1f%%')\n",
    "plt.title('Distribution of Movies by Rating')\n",
    "plt.show()"
   ]
  },
  {
   "cell_type": "markdown",
   "metadata": {},
   "source": [
    "## Movies Released by Decade\n"
   ]
  },
  {
   "cell_type": "code",
   "execution_count": 24,
   "metadata": {},
   "outputs": [
    {
     "name": "stdout",
     "output_type": "stream",
     "text": [
      "decade\n",
      "1920     6\n",
      "1930     7\n",
      "1940    12\n",
      "1950    23\n",
      "1960    18\n",
      "1970    19\n",
      "1980    27\n",
      "1990    42\n",
      "2000    48\n",
      "2010    43\n",
      "2020     5\n",
      "Name: name, dtype: int64\n"
     ]
    }
   ],
   "source": [
    "# Convert the release_year column to decades\n",
    "movies_data['decade'] = (movies_data['year'] // 10) * 10\n",
    "\n",
    "# Group the movies by decade and count the number of movies in each decade\n",
    "movies_by_decade = movies_data.groupby('decade')['name'].count()\n",
    "\n",
    "# Display the table\n",
    "print(movies_by_decade)"
   ]
  },
  {
   "cell_type": "code",
   "execution_count": 25,
   "metadata": {},
   "outputs": [
    {
     "data": {
      "image/png": "[encoded data removed]",
      "text/plain": [
       "<Figure size 432x288 with 1 Axes>"
      ]
     },
     "metadata": {},
     "output_type": "display_data"
    }
   ],
   "source": [
    "# Create a new column with the decade\n",
    "movies_data['decade'] = (movies_data['year'] // 10) * 10\n",
    "\n",
    "# Group the movies by decade and count the number of movies\n",
    "movies_by_decade = movies_data.groupby('decade')['name'].count()\n",
    "\n",
    "# Create a pie chart\n",
    "plt.pie(movies_by_decade, labels=movies_by_decade.index.astype(str), autopct='%1.1f%%')\n",
    "plt.title('Movies Released by Decade')\n",
    "plt.show()"
   ]
  },
  {
   "cell_type": "markdown",
   "metadata": {},
   "source": [
    "## How does the number of movies released each year vary over time?\n"
   ]
  },
  {
   "cell_type": "code",
   "execution_count": 26,
   "metadata": {},
   "outputs": [
    {
     "name": "stdout",
     "output_type": "stream",
     "text": [
      "    year  name\n",
      "0   1921     1\n",
      "1   1924     1\n",
      "2   1925     1\n",
      "3   1926     1\n",
      "4   1927     1\n",
      "..   ...   ...\n",
      "81  2018     4\n",
      "82  2019     6\n",
      "83  2020     2\n",
      "84  2021     2\n",
      "85  2022     1\n",
      "\n",
      "[86 rows x 2 columns]\n"
     ]
    }
   ],
   "source": [
    "# Count the number of movies released each year\n",
    "movies_per_year = movies_data.groupby('year')['name'].count().reset_index()\n",
    "\n",
    "# Display the table output\n",
    "print(movies_per_year)"
   ]
  },
  {
   "cell_type": "code",
   "execution_count": 27,
   "metadata": {},
   "outputs": [
    {
     "data": {
      "image/png": "[encoded data removed]",
      "text/plain": [
       "<Figure size 432x288 with 1 Axes>"
      ]
     },
     "metadata": {},
     "output_type": "display_data"
    }
   ],
   "source": [
    "# Get the count of movies released each year\n",
    "year_counts = movies_data.groupby('year')['name'].count()\n",
    "\n",
    "# Create the line plot\n",
    "sns.set(style=\"darkgrid\")\n",
    "plt.plot(year_counts.index, year_counts.values)\n",
    "plt.xlabel('Year')\n",
    "plt.ylabel('Number of movies released')\n",
    "plt.title('Number of movies released each year')\n",
    "plt.show()"
   ]
  },
  {
   "cell_type": "markdown",
   "metadata": {},
   "source": [
    "## What are the top 10 highest-grossing movies in the dataset?\n"
   ]
  },
  {
   "cell_type": "code",
   "execution_count": 28,
   "metadata": {},
   "outputs": [
    {
     "data": {
      "text/html": [
       "<div>\n",
       "<style scoped>\n",
       "    .dataframe tbody tr th:only-of-type {\n",
       "        vertical-align: middle;\n",
       "    }\n",
       "\n",
       "    .dataframe tbody tr th {\n",
       "        vertical-align: top;\n",
       "    }\n",
       "\n",
       "    .dataframe thead th {\n",
       "        text-align: right;\n",
       "    }\n",
       "</style>\n",
       "<table border=\"1\" class=\"dataframe\">\n",
       "  <thead>\n",
       "    <tr style=\"text-align: right;\">\n",
       "      <th></th>\n",
       "      <th>rank</th>\n",
       "      <th>name</th>\n",
       "      <th>year</th>\n",
       "      <th>rating</th>\n",
       "      <th>genre</th>\n",
       "      <th>certificate</th>\n",
       "      <th>run_time</th>\n",
       "      <th>tagline</th>\n",
       "      <th>budget</th>\n",
       "      <th>box_office</th>\n",
       "      <th>casts</th>\n",
       "      <th>directors</th>\n",
       "      <th>writers</th>\n",
       "      <th>runtime_minutes</th>\n",
       "      <th>decade</th>\n",
       "    </tr>\n",
       "  </thead>\n",
       "  <tbody>\n",
       "    <tr>\n",
       "      <th>77</th>\n",
       "      <td>78</td>\n",
       "      <td>Avengers: Endgame</td>\n",
       "      <td>2019</td>\n",
       "      <td>8.4</td>\n",
       "      <td>Action,Adventure,Drama</td>\n",
       "      <td>PG-13</td>\n",
       "      <td>3h 1m</td>\n",
       "      <td>Avenge the fallen.</td>\n",
       "      <td>356000000.0</td>\n",
       "      <td>2.799439e+09</td>\n",
       "      <td>Robert Downey Jr.,Chris Evans,Mark Ruffalo,Chr...</td>\n",
       "      <td>Anthony Russo,Joe Russo</td>\n",
       "      <td>Christopher Markus,Stephen McFeely,Stan Lee</td>\n",
       "      <td>181.0</td>\n",
       "      <td>2010</td>\n",
       "    </tr>\n",
       "    <tr>\n",
       "      <th>62</th>\n",
       "      <td>63</td>\n",
       "      <td>Avengers: Infinity War</td>\n",
       "      <td>2018</td>\n",
       "      <td>8.4</td>\n",
       "      <td>Action,Adventure,Sci-Fi</td>\n",
       "      <td>PG-13</td>\n",
       "      <td>2h 29m</td>\n",
       "      <td>An entire universe. Once and for all.</td>\n",
       "      <td>321000000.0</td>\n",
       "      <td>2.052415e+09</td>\n",
       "      <td>Robert Downey Jr.,Chris Hemsworth,Mark Ruffalo...</td>\n",
       "      <td>Anthony Russo,Joe Russo</td>\n",
       "      <td>Christopher Markus,Stephen McFeely,Stan Lee</td>\n",
       "      <td>149.0</td>\n",
       "      <td>2010</td>\n",
       "    </tr>\n",
       "    <tr>\n",
       "      <th>149</th>\n",
       "      <td>150</td>\n",
       "      <td>Spider-Man: No Way Home</td>\n",
       "      <td>2021</td>\n",
       "      <td>8.2</td>\n",
       "      <td>Action,Adventure,Fantasy</td>\n",
       "      <td>PG-13</td>\n",
       "      <td>2h 28m</td>\n",
       "      <td>The Multiverse Unleashed.</td>\n",
       "      <td>200000000.0</td>\n",
       "      <td>1.921847e+09</td>\n",
       "      <td>Tom Holland,Zendaya,Benedict Cumberbatch,Jacob...</td>\n",
       "      <td>Jon Watts</td>\n",
       "      <td>Chris McKenna,Erik Sommers,Stan Lee</td>\n",
       "      <td>148.0</td>\n",
       "      <td>2020</td>\n",
       "    </tr>\n",
       "    <tr>\n",
       "      <th>105</th>\n",
       "      <td>106</td>\n",
       "      <td>Top Gun: Maverick</td>\n",
       "      <td>2022</td>\n",
       "      <td>8.3</td>\n",
       "      <td>Action,Drama</td>\n",
       "      <td>PG-13</td>\n",
       "      <td>2h 10m</td>\n",
       "      <td>Feel the need... The need for speed.</td>\n",
       "      <td>170000000.0</td>\n",
       "      <td>1.488733e+09</td>\n",
       "      <td>Tom Cruise,Jennifer Connelly,Miles Teller,Val ...</td>\n",
       "      <td>Joseph Kosinski</td>\n",
       "      <td>Jim Cash,Jack Epps Jr.,Peter Craig</td>\n",
       "      <td>130.0</td>\n",
       "      <td>2020</td>\n",
       "    </tr>\n",
       "    <tr>\n",
       "      <th>180</th>\n",
       "      <td>181</td>\n",
       "      <td>Harry Potter and the Deathly Hallows: Part 2</td>\n",
       "      <td>2011</td>\n",
       "      <td>8.1</td>\n",
       "      <td>Adventure,Family,Fantasy</td>\n",
       "      <td>PG-13</td>\n",
       "      <td>2h 10m</td>\n",
       "      <td>It All Ends Here</td>\n",
       "      <td>125000000.0</td>\n",
       "      <td>1.342360e+09</td>\n",
       "      <td>Daniel Radcliffe,Emma Watson,Rupert Grint,Mich...</td>\n",
       "      <td>David Yates</td>\n",
       "      <td>Steve Kloves,J.K. Rowling</td>\n",
       "      <td>130.0</td>\n",
       "      <td>2010</td>\n",
       "    </tr>\n",
       "    <tr>\n",
       "      <th>6</th>\n",
       "      <td>7</td>\n",
       "      <td>The Lord of the Rings: The Return of the King</td>\n",
       "      <td>2003</td>\n",
       "      <td>9.0</td>\n",
       "      <td>Action,Adventure,Drama</td>\n",
       "      <td>PG-13</td>\n",
       "      <td>3h 21m</td>\n",
       "      <td>The eye of the enemy is moving.</td>\n",
       "      <td>94000000.0</td>\n",
       "      <td>1.146458e+09</td>\n",
       "      <td>Elijah Wood,Viggo Mortensen,Ian McKellen,Orlan...</td>\n",
       "      <td>Peter Jackson</td>\n",
       "      <td>J.R.R. Tolkien,Fran Walsh,Philippa Boyens</td>\n",
       "      <td>201.0</td>\n",
       "      <td>2000</td>\n",
       "    </tr>\n",
       "    <tr>\n",
       "      <th>143</th>\n",
       "      <td>144</td>\n",
       "      <td>Jurassic Park</td>\n",
       "      <td>1993</td>\n",
       "      <td>8.2</td>\n",
       "      <td>Action,Adventure,Sci-Fi</td>\n",
       "      <td>PG-13</td>\n",
       "      <td>2h 7m</td>\n",
       "      <td>Life finds a way.</td>\n",
       "      <td>63000000.0</td>\n",
       "      <td>1.109802e+09</td>\n",
       "      <td>Sam Neill,Laura Dern,Jeff Goldblum,Richard Att...</td>\n",
       "      <td>Steven Spielberg</td>\n",
       "      <td>Michael Crichton,David Koepp</td>\n",
       "      <td>127.0</td>\n",
       "      <td>1990</td>\n",
       "    </tr>\n",
       "    <tr>\n",
       "      <th>68</th>\n",
       "      <td>69</td>\n",
       "      <td>The Dark Knight Rises</td>\n",
       "      <td>2012</td>\n",
       "      <td>8.4</td>\n",
       "      <td>Action,Drama</td>\n",
       "      <td>PG-13</td>\n",
       "      <td>2h 44m</td>\n",
       "      <td>The Legend Ends</td>\n",
       "      <td>250000000.0</td>\n",
       "      <td>1.081170e+09</td>\n",
       "      <td>Christian Bale,Tom Hardy,Anne Hathaway,Gary Ol...</td>\n",
       "      <td>Christopher Nolan</td>\n",
       "      <td>Jonathan Nolan,Christopher Nolan,David S. Goyer</td>\n",
       "      <td>164.0</td>\n",
       "      <td>2010</td>\n",
       "    </tr>\n",
       "    <tr>\n",
       "      <th>74</th>\n",
       "      <td>75</td>\n",
       "      <td>Joker</td>\n",
       "      <td>2019</td>\n",
       "      <td>8.4</td>\n",
       "      <td>Crime,Drama,Thriller</td>\n",
       "      <td>R</td>\n",
       "      <td>2h 2m</td>\n",
       "      <td>Put on a happy face.</td>\n",
       "      <td>55000000.0</td>\n",
       "      <td>1.074458e+09</td>\n",
       "      <td>Joaquin Phoenix,Robert De Niro,Zazie Beetz,Fra...</td>\n",
       "      <td>Todd Phillips</td>\n",
       "      <td>Todd Phillips,Scott Silver,Bob Kane</td>\n",
       "      <td>122.0</td>\n",
       "      <td>2010</td>\n",
       "    </tr>\n",
       "    <tr>\n",
       "      <th>85</th>\n",
       "      <td>86</td>\n",
       "      <td>Toy Story 3</td>\n",
       "      <td>2010</td>\n",
       "      <td>8.3</td>\n",
       "      <td>Animation,Adventure,Comedy</td>\n",
       "      <td>G</td>\n",
       "      <td>1h 43m</td>\n",
       "      <td>The Breakout Comedy Of The Summer</td>\n",
       "      <td>200000000.0</td>\n",
       "      <td>1.067316e+09</td>\n",
       "      <td>Tom Hanks,Tim Allen,Joan Cusack,Ned Beatty,Don...</td>\n",
       "      <td>Lee Unkrich</td>\n",
       "      <td>John Lasseter,Andrew Stanton,Lee Unkrich</td>\n",
       "      <td>103.0</td>\n",
       "      <td>2010</td>\n",
       "    </tr>\n",
       "  </tbody>\n",
       "</table>\n",
       "</div>"
      ],
      "text/plain": [
       "     rank                                           name  year  rating  \\\n",
       "77     78                              Avengers: Endgame  2019     8.4   \n",
       "62     63                         Avengers: Infinity War  2018     8.4   \n",
       "149   150                        Spider-Man: No Way Home  2021     8.2   \n",
       "105   106                              Top Gun: Maverick  2022     8.3   \n",
       "180   181   Harry Potter and the Deathly Hallows: Part 2  2011     8.1   \n",
       "6       7  The Lord of the Rings: The Return of the King  2003     9.0   \n",
       "143   144                                  Jurassic Park  1993     8.2   \n",
       "68     69                          The Dark Knight Rises  2012     8.4   \n",
       "74     75                                          Joker  2019     8.4   \n",
       "85     86                                    Toy Story 3  2010     8.3   \n",
       "\n",
       "                          genre certificate run_time  \\\n",
       "77       Action,Adventure,Drama       PG-13    3h 1m   \n",
       "62      Action,Adventure,Sci-Fi       PG-13   2h 29m   \n",
       "149    Action,Adventure,Fantasy       PG-13   2h 28m   \n",
       "105                Action,Drama       PG-13   2h 10m   \n",
       "180    Adventure,Family,Fantasy       PG-13   2h 10m   \n",
       "6        Action,Adventure,Drama       PG-13   3h 21m   \n",
       "143     Action,Adventure,Sci-Fi       PG-13    2h 7m   \n",
       "68                 Action,Drama       PG-13   2h 44m   \n",
       "74         Crime,Drama,Thriller           R    2h 2m   \n",
       "85   Animation,Adventure,Comedy           G   1h 43m   \n",
       "\n",
       "                                   tagline       budget    box_office  \\\n",
       "77                      Avenge the fallen.  356000000.0  2.799439e+09   \n",
       "62   An entire universe. Once and for all.  321000000.0  2.052415e+09   \n",
       "149              The Multiverse Unleashed.  200000000.0  1.921847e+09   \n",
       "105   Feel the need... The need for speed.  170000000.0  1.488733e+09   \n",
       "180                       It All Ends Here  125000000.0  1.342360e+09   \n",
       "6          The eye of the enemy is moving.   94000000.0  1.146458e+09   \n",
       "143                      Life finds a way.   63000000.0  1.109802e+09   \n",
       "68                         The Legend Ends  250000000.0  1.081170e+09   \n",
       "74                    Put on a happy face.   55000000.0  1.074458e+09   \n",
       "85       The Breakout Comedy Of The Summer  200000000.0  1.067316e+09   \n",
       "\n",
       "                                                 casts  \\\n",
       "77   Robert Downey Jr.,Chris Evans,Mark Ruffalo,Chr...   \n",
       "62   Robert Downey Jr.,Chris Hemsworth,Mark Ruffalo...   \n",
       "149  Tom Holland,Zendaya,Benedict Cumberbatch,Jacob...   \n",
       "105  Tom Cruise,Jennifer Connelly,Miles Teller,Val ...   \n",
       "180  Daniel Radcliffe,Emma Watson,Rupert Grint,Mich...   \n",
       "6    Elijah Wood,Viggo Mortensen,Ian McKellen,Orlan...   \n",
       "143  Sam Neill,Laura Dern,Jeff Goldblum,Richard Att...   \n",
       "68   Christian Bale,Tom Hardy,Anne Hathaway,Gary Ol...   \n",
       "74   Joaquin Phoenix,Robert De Niro,Zazie Beetz,Fra...   \n",
       "85   Tom Hanks,Tim Allen,Joan Cusack,Ned Beatty,Don...   \n",
       "\n",
       "                   directors                                          writers  \\\n",
       "77   Anthony Russo,Joe Russo      Christopher Markus,Stephen McFeely,Stan Lee   \n",
       "62   Anthony Russo,Joe Russo      Christopher Markus,Stephen McFeely,Stan Lee   \n",
       "149                Jon Watts              Chris McKenna,Erik Sommers,Stan Lee   \n",
       "105          Joseph Kosinski               Jim Cash,Jack Epps Jr.,Peter Craig   \n",
       "180              David Yates                        Steve Kloves,J.K. Rowling   \n",
       "6              Peter Jackson        J.R.R. Tolkien,Fran Walsh,Philippa Boyens   \n",
       "143         Steven Spielberg                     Michael Crichton,David Koepp   \n",
       "68         Christopher Nolan  Jonathan Nolan,Christopher Nolan,David S. Goyer   \n",
       "74             Todd Phillips              Todd Phillips,Scott Silver,Bob Kane   \n",
       "85               Lee Unkrich         John Lasseter,Andrew Stanton,Lee Unkrich   \n",
       "\n",
       "     runtime_minutes  decade  \n",
       "77             181.0    2010  \n",
       "62             149.0    2010  \n",
       "149            148.0    2020  \n",
       "105            130.0    2020  \n",
       "180            130.0    2010  \n",
       "6              201.0    2000  \n",
       "143            127.0    1990  \n",
       "68             164.0    2010  \n",
       "74             122.0    2010  \n",
       "85             103.0    2010  "
      ]
     },
     "metadata": {},
     "output_type": "display_data"
    }
   ],
   "source": [
    "top_10_grossing = movies_data.sort_values('box_office', ascending=False).head(10)\n",
    "display(top_10_grossing)"
   ]
  },
  {
   "cell_type": "code",
   "execution_count": 29,
   "metadata": {},
   "outputs": [
    {
     "data": {
      "image/png": "[encoded data removed]",
      "text/plain": [
       "<Figure size 432x288 with 1 Axes>"
      ]
     },
     "metadata": {},
     "output_type": "display_data"
    }
   ],
   "source": [
    "# Filter out the 'Not Available' box office values and sort by descending order\n",
    "top_grossing = movies_data[movies_data['box_office'] != 'Not Available'].sort_values(by='box_office', ascending=False).head(10)\n",
    "\n",
    "# Create a list of 10 different colors\n",
    "colors = ['#F44336', '#E91E63', '#9C27B0', '#673AB7', '#3F51B5', '#2196F3', '#00BCD4', '#4CAF50', '#8BC34A', '#FFC107']\n",
    "\n",
    "# Plot the bar chart\n",
    "plt.bar(x=top_grossing['name'], height=top_grossing['box_office'], color=colors)\n",
    "plt.xticks(rotation=90)\n",
    "plt.xlabel('Movie Title')\n",
    "plt.ylabel('Box Office ($)')\n",
    "plt.title('Top 10 Highest-Grossing Movies')\n",
    "plt.show()"
   ]
  },
  {
   "cell_type": "markdown",
   "metadata": {},
   "source": [
    "## Is there a correlation between budget and box office revenue?\n"
   ]
  },
  {
   "cell_type": "code",
   "execution_count": 30,
   "metadata": {},
   "outputs": [
    {
     "name": "stdout",
     "output_type": "stream",
     "text": [
      "The correlation coefficient between budget and box office revenue is 0.25\n"
     ]
    }
   ],
   "source": [
    "budget = movies_data[\"budget\"].replace(\"Not Available\", pd.NA).astype(float)\n",
    "box_office = movies_data[\"box_office\"].replace(\"Not Available\", pd.NA).astype(float)\n",
    "\n",
    "correlation = budget.corr(box_office)\n",
    "\n",
    "print(f\"The correlation coefficient between budget and box office revenue is {correlation:.2f}\")"
   ]
  },
  {
   "cell_type": "markdown",
   "metadata": {},
   "source": [
    "## How does the distribution of movie ratings differ by genre?\n"
   ]
  },
  {
   "cell_type": "code",
   "execution_count": 31,
   "metadata": {},
   "outputs": [
    {
     "data": {
      "text/plain": [
       "<seaborn.axisgrid.FacetGrid at 0x1a3faf18d30>"
      ]
     },
     "execution_count": 31,
     "metadata": {},
     "output_type": "execute_result"
    },
    {
     "data": {
      "image/png": "[encoded data removed]",
      "text/plain": [
       "<Figure size 864x576 with 1 Axes>"
      ]
     },
     "metadata": {},
     "output_type": "display_data"
    }
   ],
   "source": [
    "# Get the top 10 genres by movie count\n",
    "top_genres = movies_data['genre'].str.split('|', expand=True).stack().value_counts().head(10).index\n",
    "\n",
    "# Filter the dataset to only include movies in the top 10 genres\n",
    "df_top_genres = movies_data[movies_data['genre'].str.contains('|'.join(top_genres))]\n",
    "\n",
    "# Create a box plot for each genre\n",
    "sns.set(style='whitegrid', font_scale=1.5)\n",
    "sns.catplot(x='rating', y='genre', data=df_top_genres, kind='box', height=8, aspect=1.5, order=top_genres)"
   ]
  },
  {
   "cell_type": "code",
   "execution_count": null,
   "metadata": {},
   "outputs": [],
   "source": []
  }
 ],
 "metadata": {
  "kernelspec": {
   "display_name": "Python 3",
   "language": "python",
   "name": "python3"
  },
  "language_info": {
   "codemirror_mode": {
    "name": "ipython",
    "version": 3
   },
   "file_extension": ".py",
   "mimetype": "text/x-python",
   "name": "python",
   "nbconvert_exporter": "python",
   "pygments_lexer": "ipython3",
   "version": "3.8.5"
  }
 },
 "nbformat": 4,
 "nbformat_minor": 4
}
